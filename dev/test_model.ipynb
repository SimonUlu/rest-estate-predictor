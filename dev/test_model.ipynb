{
 "cells": [
  {
   "cell_type": "code",
   "execution_count": 138,
   "metadata": {},
   "outputs": [],
   "source": [
    "from joblib import  load\n",
    "from xgboost import XGBRegressor\n",
    "# Modell laden\n",
    "xgb_model_loaded = load('xgb_model.joblib')"
   ]
  },
  {
   "cell_type": "code",
   "execution_count": 139,
   "metadata": {},
   "outputs": [
    {
     "name": "stdout",
     "output_type": "stream",
     "text": [
      "{'postcode': '57580', 'city': 'Gebhardshain VG', 'estate_types': ['HOUSE'], 'estate_subtypes': ['BUNGALOW'], 'plot_area_size_max': 948, 'living_area_size_max': 96, 'rooms_max': 4, 'construction_year': 1959, 'is_new': False, 'features': ['CELLAR_SHARE', 'BARRIER_FREE', 'FITTED_KITCHEN', 'TERRACE', 'GARAGE', 'PARKING_AREA']}\n"
     ]
    }
   ],
   "source": [
    "import json\n",
    "\n",
    "# Öffne die JSON-Datei im Lesemodus und lade ihren Inhalt\n",
    "with open('data/test_estates.json', 'r') as json_datei:\n",
    "    json_inhalt = json.load(json_datei)\n",
    "\n",
    "# Du kannst nun auf die JSON-Daten zugreifen, z.B. so:\n",
    "print(json_inhalt)"
   ]
  },
  {
   "cell_type": "code",
   "execution_count": 140,
   "metadata": {},
   "outputs": [],
   "source": [
    "import pandas as pd\n",
    "# Erstelle ein DataFrame aus dem JSON-Objekt\n",
    "df = pd.DataFrame.from_dict(json_inhalt, orient='index').T"
   ]
  },
  {
   "cell_type": "markdown",
   "metadata": {},
   "source": [
    "# Load json"
   ]
  },
  {
   "cell_type": "code",
   "execution_count": 141,
   "metadata": {},
   "outputs": [],
   "source": [
    "# Öffne die JSON-Datei im Lesemodus und lade ihren Inhalt\n",
    "with open('fields/estate_subtypes.json', 'r') as json_datei:\n",
    "    subtypes = json.load(json_datei)\n",
    "    \n",
    "with open('fields/estate_types.json', 'r') as json_datei:\n",
    "    types = json.load(json_datei)\n",
    "    \n",
    "with open('fields/features.json', 'r') as json_datei:\n",
    "    features = json.load(json_datei)\n",
    "    \n",
    "with open('fields/city_list.json', 'r') as json_datei:\n",
    "    city_types = json.load(json_datei)\n",
    "   \n",
    "# Füge Spalten für estate_features hinzu\n",
    "for feature in features['estate_features']:\n",
    "    column_name = f'feature_{feature}'.lower()\n",
    "    df[column_name] = df['features'].apply(lambda x: feature in str(x)) \n",
    "\n",
    "# Füge Spalten für estate_types und estate_subtypes hinzu\n",
    "for estate_type in types['estate_types']:\n",
    "    column_name = f'estate_type_{estate_type}'.lower()\n",
    "    df[column_name] = df['estate_types'].apply(lambda x: estate_type in x)\n",
    "\n",
    "for estate_subtype in subtypes['estate_subtypes']:\n",
    "    column_name = f'estate_subtype_{estate_subtype}'.lower()\n",
    "    df[column_name] = df['estate_subtypes'].apply(lambda x: estate_subtype in x)\n",
    "\n",
    "\n",
    "# Erstellen Sie ein leeres Dictionary, das die neuen Spalten aufnehmen wird\n",
    "new_columns = {}\n",
    "\n",
    "for key, city in city_types.items():\n",
    "    # Erstellung der Spalte für jede Stadt\n",
    "    # key ist der Spaltenname und city ist der Wert, nach dem wir überprüfen\n",
    "    new_columns[city] = df['city'].apply(lambda x: city in str(x))\n",
    "\n",
    "# Konvertieren Sie das Dictionary in einen DataFrame\n",
    "new_columns_df = pd.DataFrame(new_columns)\n",
    "\n",
    "# Verbinden Sie den neuen DataFrame mit dem bestehenden DataFrame\n",
    "df = pd.concat([df, new_columns_df], axis=1)\n",
    "\n",
    "\n",
    "# Da wir nicht wissen, wie genau die 'features'-Spalte im ursprünglichen DataFrame strukturiert ist,\n",
    "# gehe ich davon aus, dass es eine Liste von Strings ist, die die verschiedenen Features enthält.\n",
    "# Wenn dem nicht so ist, müssten Sie diesen Teil an Ihre Datenstruktur anpassen.\n",
    "\n",
    "# Entfernen der ursprünglichen Spalten, nachdem Sie sie transformiert haben\n",
    "df.drop(['estate_subtypes', 'estate_types', 'features', 'city'], axis=1, inplace=True)\n",
    "    \n"
   ]
  },
  {
   "cell_type": "code",
   "execution_count": 142,
   "metadata": {},
   "outputs": [
    {
     "data": {
      "text/html": [
       "<div>\n",
       "<style scoped>\n",
       "    .dataframe tbody tr th:only-of-type {\n",
       "        vertical-align: middle;\n",
       "    }\n",
       "\n",
       "    .dataframe tbody tr th {\n",
       "        vertical-align: top;\n",
       "    }\n",
       "\n",
       "    .dataframe thead th {\n",
       "        text-align: right;\n",
       "    }\n",
       "</style>\n",
       "<table border=\"1\" class=\"dataframe\">\n",
       "  <thead>\n",
       "    <tr style=\"text-align: right;\">\n",
       "      <th></th>\n",
       "      <th>postcode</th>\n",
       "      <th>plot_area_size_max</th>\n",
       "      <th>living_area_size_max</th>\n",
       "      <th>rooms_max</th>\n",
       "      <th>construction_year</th>\n",
       "      <th>is_new</th>\n",
       "      <th>feature_wheelchair_accessible</th>\n",
       "      <th>feature_fully_renovated</th>\n",
       "      <th>feature_partly_developed</th>\n",
       "      <th>feature_loggia</th>\n",
       "      <th>...</th>\n",
       "      <th>city_Zülpich_/_Sinzenich</th>\n",
       "      <th>city_im_vorderen_Westerwald</th>\n",
       "      <th>city_meerbusch</th>\n",
       "      <th>city_neuss</th>\n",
       "      <th>city_Ötzingen_/_Sainerholz</th>\n",
       "      <th>city_Übach-Palenberg</th>\n",
       "      <th>city_Übach-Palenberg_/_Boscheln</th>\n",
       "      <th>city_Übach-Palenberg_/_Marienberg</th>\n",
       "      <th>city_Üxheim</th>\n",
       "      <th>city_Üxheim_OT_Niederehe</th>\n",
       "    </tr>\n",
       "  </thead>\n",
       "  <tbody>\n",
       "    <tr>\n",
       "      <th>0</th>\n",
       "      <td>57580</td>\n",
       "      <td>948</td>\n",
       "      <td>96</td>\n",
       "      <td>4</td>\n",
       "      <td>1959</td>\n",
       "      <td>False</td>\n",
       "      <td>False</td>\n",
       "      <td>False</td>\n",
       "      <td>False</td>\n",
       "      <td>False</td>\n",
       "      <td>...</td>\n",
       "      <td>False</td>\n",
       "      <td>False</td>\n",
       "      <td>False</td>\n",
       "      <td>False</td>\n",
       "      <td>False</td>\n",
       "      <td>False</td>\n",
       "      <td>False</td>\n",
       "      <td>False</td>\n",
       "      <td>False</td>\n",
       "      <td>False</td>\n",
       "    </tr>\n",
       "  </tbody>\n",
       "</table>\n",
       "<p>1 rows × 1481 columns</p>\n",
       "</div>"
      ],
      "text/plain": [
       "  postcode plot_area_size_max living_area_size_max rooms_max  \\\n",
       "0    57580                948                   96         4   \n",
       "\n",
       "  construction_year is_new  feature_wheelchair_accessible  \\\n",
       "0              1959  False                          False   \n",
       "\n",
       "   feature_fully_renovated  feature_partly_developed  feature_loggia  ...  \\\n",
       "0                    False                     False           False  ...   \n",
       "\n",
       "   city_Zülpich_/_Sinzenich  city_im_vorderen_Westerwald  city_meerbusch  \\\n",
       "0                     False                        False           False   \n",
       "\n",
       "   city_neuss  city_Ötzingen_/_Sainerholz  city_Übach-Palenberg  \\\n",
       "0       False                       False                 False   \n",
       "\n",
       "   city_Übach-Palenberg_/_Boscheln  city_Übach-Palenberg_/_Marienberg  \\\n",
       "0                            False                              False   \n",
       "\n",
       "   city_Üxheim  city_Üxheim_OT_Niederehe  \n",
       "0        False                     False  \n",
       "\n",
       "[1 rows x 1481 columns]"
      ]
     },
     "execution_count": 142,
     "metadata": {},
     "output_type": "execute_result"
    }
   ],
   "source": [
    "df.head(5)"
   ]
  },
  {
   "cell_type": "code",
   "execution_count": 143,
   "metadata": {},
   "outputs": [
    {
     "data": {
      "text/plain": [
       "Index(['postcode', 'plot_area_size_max', 'living_area_size_max', 'rooms_max',\n",
       "       'construction_year', 'is_new', 'feature_wheelchair_accessible',\n",
       "       'feature_fully_renovated', 'feature_partly_developed', 'feature_loggia',\n",
       "       ...\n",
       "       'city_Zülpich_/_Sinzenich', 'city_im_vorderen_Westerwald',\n",
       "       'city_meerbusch', 'city_neuss', 'city_Ötzingen_/_Sainerholz',\n",
       "       'city_Übach-Palenberg', 'city_Übach-Palenberg_/_Boscheln',\n",
       "       'city_Übach-Palenberg_/_Marienberg', 'city_Üxheim',\n",
       "       'city_Üxheim_OT_Niederehe'],\n",
       "      dtype='object', length=1481)"
      ]
     },
     "execution_count": 143,
     "metadata": {},
     "output_type": "execute_result"
    }
   ],
   "source": [
    "df.columns"
   ]
  },
  {
   "cell_type": "code",
   "execution_count": 144,
   "metadata": {},
   "outputs": [
    {
     "name": "stdout",
     "output_type": "stream",
     "text": [
      "postcode                             int64\n",
      "plot_area_size_max                   int64\n",
      "living_area_size_max                 int64\n",
      "rooms_max                            int64\n",
      "construction_year                    int64\n",
      "                                     ...  \n",
      "city_Übach-Palenberg                  bool\n",
      "city_Übach-Palenberg_/_Boscheln       bool\n",
      "city_Übach-Palenberg_/_Marienberg     bool\n",
      "city_Üxheim                           bool\n",
      "city_Üxheim_OT_Niederehe              bool\n",
      "Length: 1481, dtype: object\n"
     ]
    }
   ],
   "source": [
    "# Konvertierung der numerischen Spalten von 'object' zu 'float' oder 'int'\n",
    "df['postcode'] = pd.to_numeric(df['postcode'], errors='coerce')\n",
    "df['plot_area_size_max'] = pd.to_numeric(df['plot_area_size_max'], errors='coerce')\n",
    "df['living_area_size_max'] = pd.to_numeric(df['living_area_size_max'], errors='coerce')\n",
    "df['rooms_max'] = pd.to_numeric(df['rooms_max'], errors='coerce')\n",
    "df['construction_year'] = pd.to_numeric(df['construction_year'], errors='coerce')\n",
    "\n",
    "# Konvertierung der Spalte 'is_new' von 'object' zu 'bool', wenn es sich um eine binäre Darstellung handelt\n",
    "df['is_new'] = df['is_new'].astype(int)\n",
    "\n",
    "# Nach der Konvertierung empfiehlt es sich, den aktualisierten DataFrame erneut zu überprüfen\n",
    "print(df.dtypes)"
   ]
  },
  {
   "cell_type": "code",
   "execution_count": 145,
   "metadata": {},
   "outputs": [
    {
     "data": {
      "text/plain": [
       "array([289058.66], dtype=float32)"
      ]
     },
     "execution_count": 145,
     "metadata": {},
     "output_type": "execute_result"
    }
   ],
   "source": [
    "xgb_model_loaded.predict(df)"
   ]
  },
  {
   "cell_type": "code",
   "execution_count": 116,
   "metadata": {},
   "outputs": [],
   "source": [
    "\n",
    "# Now, to export this DataFrame to a CSV file, you can use the to_csv() method.\n",
    "df.to_csv('my_file.csv', index=False)"
   ]
  }
 ],
 "metadata": {
  "interpreter": {
   "hash": "397704579725e15f5c7cb49fe5f0341eb7531c82d19f2c29d197e8b64ab5776b"
  },
  "kernelspec": {
   "display_name": "venvname",
   "language": "python",
   "name": "venvname"
  },
  "language_info": {
   "codemirror_mode": {
    "name": "ipython",
    "version": 3
   },
   "file_extension": ".py",
   "mimetype": "text/x-python",
   "name": "python",
   "nbconvert_exporter": "python",
   "pygments_lexer": "ipython3",
   "version": "3.9.7"
  },
  "orig_nbformat": 4
 },
 "nbformat": 4,
 "nbformat_minor": 2
}
